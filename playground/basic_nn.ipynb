{
 "cells": [
  {
   "cell_type": "markdown",
   "metadata": {},
   "source": [
    "# Basic Neural Network in Numpy"
   ]
  },
  {
   "cell_type": "code",
   "execution_count": 1,
   "metadata": {},
   "outputs": [],
   "source": [
    "import numpy as np\n",
    "np.random.seed(1)"
   ]
  },
  {
   "cell_type": "code",
   "execution_count": 2,
   "metadata": {},
   "outputs": [],
   "source": [
    "X = np.random.randint(0, 2, size=(10, 6))\n",
    "y = np.random.randint(0, 2, size=(10, 1))"
   ]
  },
  {
   "cell_type": "code",
   "execution_count": 3,
   "metadata": {},
   "outputs": [],
   "source": [
    "W1 = 2 * np.random.random((6, 3)) - 1\n",
    "W2 = 2 * np.random.random((3, 1)) - 1"
   ]
  },
  {
   "cell_type": "code",
   "execution_count": 4,
   "metadata": {},
   "outputs": [],
   "source": [
    "def sigmoid(x):\n",
    "    return 1 / (1 + np.exp(-x))\n",
    "\n",
    "def nll(target, pred):\n",
    "    return np.sum(-target * np.log(pred))"
   ]
  },
  {
   "cell_type": "code",
   "execution_count": 5,
   "metadata": {},
   "outputs": [
    {
     "name": "stdout",
     "output_type": "stream",
     "text": [
      "W1: [[-0.41128669  1.0079097  -0.53547132]\n",
      " [-1.44689343 -6.61011106  6.22347221]\n",
      " [-0.40247243  4.14121639 -3.88479384]\n",
      " [ 2.05204952 -1.55322022  1.00024174]\n",
      " [-2.52201087  0.06071088 -0.46524165]\n",
      " [-2.70200844  4.13693156 -3.86986874]]\n",
      "W2: [[-3.89629064]\n",
      " [ 9.80818315]\n",
      " [-8.75867543]]\n",
      "Logloss 0.017\n"
     ]
    }
   ],
   "source": [
    "N = 10000\n",
    "for i in range(N):\n",
    "    h = sigmoid(np.dot(X, W1))  # (100, 3)\n",
    "    out = sigmoid(np.dot(h, W2))  # (100, 1)\n",
    "    dout = (y - out) * (out * (1 - out))  # (100, 1)\n",
    "    dh = np.dot(dout, W2.T) * (h * (1 - h))  # (100, 3)\n",
    "    W2 = W2 + np.dot(h.T, dout)\n",
    "    W1 = W1 + np.dot(X.T, dh)\n",
    "\n",
    "print(\"W1:\", W1)\n",
    "print(\"W2:\", W2)\n",
    "\n",
    "y_hat = sigmoid(np.dot(sigmoid(np.dot(X, W1)), W2))\n",
    "print(\"Logloss\", np.round(nll(y, y_hat), 3))"
   ]
  },
  {
   "cell_type": "code",
   "execution_count": null,
   "metadata": {},
   "outputs": [],
   "source": []
  }
 ],
 "metadata": {
  "kernelspec": {
   "display_name": "Smart AI",
   "language": "python",
   "name": "smartai"
  },
  "language_info": {
   "codemirror_mode": {
    "name": "ipython",
    "version": 3
   },
   "file_extension": ".py",
   "mimetype": "text/x-python",
   "name": "python",
   "nbconvert_exporter": "python",
   "pygments_lexer": "ipython3",
   "version": "3.6.6"
  }
 },
 "nbformat": 4,
 "nbformat_minor": 2
}
